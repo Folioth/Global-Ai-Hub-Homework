{
 "cells": [
  {
   "cell_type": "code",
   "execution_count": null,
   "metadata": {},
   "outputs": [],
   "source": [
    "\n",
    "#Turkish Ai hub Homework (python)(mrtsarikaya@outlook.com)\n"
   ]
  },
  {
   "cell_type": "code",
   "execution_count": 1,
   "metadata": {},
   "outputs": [
    {
     "name": "stdout",
     "output_type": "stream",
     "text": [
      "Adiniz : Mert \n",
      "Soyadiniz : Sarıkaya\n",
      "Yasınız : 21\n",
      "Cinsiyetiniz : Erkek\n",
      "Mesleginiz : Öğrenci\n",
      " Ad : Mert \n",
      "Soyad : Sarıkaya\n",
      "Yaş : 21\n",
      "Cinsiyet : Erkek\n",
      "Meslek : Öğrenci\n"
     ]
    }
   ],
   "source": [
    "#Homework 1\n",
    "\n",
    "name = input(\"Adiniz : \")\n",
    "surname = input(\"Soyadiniz : \")\n",
    "age = input(\"Yasınız : \")\n",
    "gender = input(\"Cinsiyetiniz : \")\n",
    "job = input(\"Mesleginiz : \")\n",
    "print(f\" Ad : {name}\\nSoyad : {surname}\\nYaş : {age}\\nCinsiyet : {gender}\\nMeslek : {job}\")\n"
   ]
  },
  {
   "cell_type": "code",
   "execution_count": 1,
   "metadata": {},
   "outputs": [
    {
     "name": "stdout",
     "output_type": "stream",
     "text": [
      "First Name:Mert\n",
      "Surname:Sarıkaya\n",
      "Age:21\n",
      "Date of birth(just year):1999\n",
      "Mert\n",
      "Sarıkaya\n",
      "21\n",
      "1999\n",
      "You can go out to the street.\n"
     ]
    }
   ],
   "source": [
    "#Homework 2\n",
    "name1 = input(\"First Name:\")\n",
    "surname1 = input(\"Surname:\")\n",
    "age1 = int(input(\"Age:\"))\n",
    "dob =input(\"Date of birth(just year):\")\n",
    "user_inf = []\n",
    "user_inf.append(name1)\n",
    "user_inf.append(surname1)\n",
    "user_inf.append(age1)\n",
    "user_inf.append(dob)\n",
    "for i in user_inf:\n",
    "  print(i)\n",
    "if age1 > 18 :\n",
    "  print(\"You can go out to the street.\")\n",
    "else: \n",
    "  print(\"You can't go out because it's too dangerous\")"
   ]
  },
  {
   "cell_type": "code",
   "execution_count": 3,
   "metadata": {},
   "outputs": [
    {
     "name": "stdout",
     "output_type": "stream",
     "text": [
      "Please give me your name: Mert\n",
      "Welcome Mert, this is a secret number game. Please guess the secret number.\n",
      "Please enter your number: 5\n",
      "Please enter a greater number!!\n",
      "Please enter your number: 15\n",
      "Please enter a greater number!!\n",
      "Please enter your number: 45\n",
      "Please enter a greater number!!\n",
      "Please enter your number: 85\n",
      "Please enter a smaller number!!\n",
      "Please enter your number: 75\n",
      "Please enter a smaller number!!\n"
     ]
    },
    {
     "ename": "SystemExit",
     "evalue": "You LOSE 49",
     "output_type": "error",
     "traceback": [
      "An exception has occurred, use %tb to see the full traceback.\n",
      "\u001b[0;31mSystemExit\u001b[0m\u001b[0;31m:\u001b[0m You LOSE 49\n"
     ]
    }
   ],
   "source": [
    "#Homework 3\n",
    "import random as rnd\n",
    "import sys\n",
    "\n",
    "name = input(\"Please give me your name: \")\n",
    "print(f\"Welcome {name}, this is a secret number game. Please guess the secret number.\")\n",
    "secret = rnd.randint(1,100)\n",
    "\n",
    "check = False\n",
    "\n",
    "for x in range(5):\n",
    "  guess = int(input(\"Please enter your number: \"))\n",
    "  if guess == secret:\n",
    "    print(\"You WIN\")\n",
    "    check = True\n",
    "    break\n",
    "  elif guess < secret:\n",
    "    print(\"Please enter a greater number!!\")\n",
    "  else: \n",
    "    print(\"Please enter a smaller number!!\")\n",
    "\n",
    "if not check:\n",
    "  sys.exit(f\"You LOSE {secret}\")"
   ]
  },
  {
   "cell_type": "code",
   "execution_count": null,
   "metadata": {},
   "outputs": [],
   "source": []
  },
  {
   "cell_type": "code",
   "execution_count": null,
   "metadata": {},
   "outputs": [],
   "source": []
  }
 ],
 "metadata": {
  "kernelspec": {
   "display_name": "Python 3",
   "language": "python",
   "name": "python3"
  },
  "language_info": {
   "codemirror_mode": {
    "name": "ipython",
    "version": 3
   },
   "file_extension": ".py",
   "mimetype": "text/x-python",
   "name": "python",
   "nbconvert_exporter": "python",
   "pygments_lexer": "ipython3",
   "version": "3.6.11"
  }
 },
 "nbformat": 4,
 "nbformat_minor": 4
}
